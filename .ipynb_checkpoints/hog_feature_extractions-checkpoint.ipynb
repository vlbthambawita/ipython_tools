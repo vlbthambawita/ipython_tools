{
 "cells": [
  {
   "cell_type": "markdown",
   "metadata": {},
   "source": [
    "# Hog feature extraction as image 8x8"
   ]
  },
  {
   "cell_type": "code",
   "execution_count": 4,
   "metadata": {},
   "outputs": [],
   "source": [
    "import os\n",
    "from skimage.feature import hog\n",
    "from skimage import data, exposure\n",
    "from PIL import Image\n",
    "import matplotlib.pyplot as plt\n",
    "from tqdm import tqdm_notebook"
   ]
  },
  {
   "cell_type": "markdown",
   "metadata": {},
   "source": [
    "## Prepare train data"
   ]
  },
  {
   "cell_type": "code",
   "execution_count": 3,
   "metadata": {},
   "outputs": [],
   "source": [
    "src_train_folder = \"/home/vajira/DL/common_datasets/sperm_4k_1k/train/A_original\"\n",
    "dst_train_folder = \"/home/vajira/DL/common_datasets/sperm_4k_1k/train/A_hog_8x8\""
   ]
  },
  {
   "cell_type": "code",
   "execution_count": 10,
   "metadata": {},
   "outputs": [
    {
     "data": {
      "application/vnd.jupyter.widget-view+json": {
       "model_id": "7d96013e1e594b1bad4ee1eb5c03f1d0",
       "version_major": 2,
       "version_minor": 0
      },
      "text/plain": [
       "HBox(children=(IntProgress(value=0, max=3000), HTML(value='')))"
      ]
     },
     "metadata": {},
     "output_type": "display_data"
    },
    {
     "name": "stdout",
     "output_type": "stream",
     "text": [
      "\n"
     ]
    }
   ],
   "source": [
    "for i in tqdm_notebook(os.listdir(src_train_folder)):\n",
    "    img_path = os.path.join(src_train_folder, i)\n",
    "    dst_path = os.path.join(dst_train_folder, \"hog_\"+i)\n",
    "    img = Image.open(img_path)\n",
    "    img_256 = img.resize((256, 256))\n",
    "    fd, hog_image = hog(img_256, orientations=8, pixels_per_cell=(8, 8),\n",
    "                        cells_per_block=(1, 1), visualize=True, multichannel=True)\n",
    "    hog_image_rescaled = exposure.rescale_intensity(hog_image, in_range=(0, 10))\n",
    "    plt.imsave(dst_path, hog_image_rescaled, cmap=plt.cm.gray)"
   ]
  },
  {
   "cell_type": "markdown",
   "metadata": {},
   "source": [
    "## Prepare test data"
   ]
  },
  {
   "cell_type": "code",
   "execution_count": 11,
   "metadata": {},
   "outputs": [],
   "source": [
    "src_train_folder = \"/home/vajira/DL/common_datasets/sperm_4k_1k/test/A_original\"\n",
    "dst_train_folder = \"/home/vajira/DL/common_datasets/sperm_4k_1k/test/A_hog_8x8\""
   ]
  },
  {
   "cell_type": "code",
   "execution_count": 12,
   "metadata": {},
   "outputs": [
    {
     "data": {
      "application/vnd.jupyter.widget-view+json": {
       "model_id": "33fef0ba8a5f41c3b3e63a91f7aeeaea",
       "version_major": 2,
       "version_minor": 0
      },
      "text/plain": [
       "HBox(children=(IntProgress(value=0, max=1000), HTML(value='')))"
      ]
     },
     "metadata": {},
     "output_type": "display_data"
    },
    {
     "name": "stdout",
     "output_type": "stream",
     "text": [
      "\n"
     ]
    }
   ],
   "source": [
    "for i in tqdm_notebook(os.listdir(src_train_folder)):\n",
    "    img_path = os.path.join(src_train_folder, i)\n",
    "    dst_path = os.path.join(dst_train_folder, \"hog_\"+i)\n",
    "    img = Image.open(img_path)\n",
    "    img_256 = img.resize((256, 256))\n",
    "    fd, hog_image = hog(img_256, orientations=8, pixels_per_cell=(8, 8),\n",
    "                        cells_per_block=(1, 1), visualize=True, multichannel=True)\n",
    "    hog_image_rescaled = exposure.rescale_intensity(hog_image, in_range=(0, 10))\n",
    "    plt.imsave(dst_path, hog_image_rescaled, cmap=plt.cm.gray)"
   ]
  },
  {
   "cell_type": "markdown",
   "metadata": {},
   "source": [
    "# Prepare real test data"
   ]
  },
  {
   "cell_type": "code",
   "execution_count": null,
   "metadata": {},
   "outputs": [],
   "source": []
  },
  {
   "cell_type": "code",
   "execution_count": 10,
   "metadata": {},
   "outputs": [],
   "source": [
    "src_train_folder = \"/home/vajira/DL/common_datasets/sperm_4k_1k/real_test_set/a\"\n",
    "dst_train_folder = \"/home/vajira/DL/common_datasets/sperm_4k_1k/real_test_set/b\""
   ]
  },
  {
   "cell_type": "code",
   "execution_count": 11,
   "metadata": {},
   "outputs": [
    {
     "data": {
      "text/plain": [
       "1000"
      ]
     },
     "execution_count": 11,
     "metadata": {},
     "output_type": "execute_result"
    }
   ],
   "source": [
    "len(os.listdir(src_train_folder))"
   ]
  },
  {
   "cell_type": "code",
   "execution_count": 12,
   "metadata": {},
   "outputs": [
    {
     "data": {
      "application/vnd.jupyter.widget-view+json": {
       "model_id": "14d4ba3abb0342d7b0c81bb5ae37d6b9",
       "version_major": 2,
       "version_minor": 0
      },
      "text/plain": [
       "HBox(children=(IntProgress(value=0, max=1000), HTML(value='')))"
      ]
     },
     "metadata": {},
     "output_type": "display_data"
    },
    {
     "name": "stderr",
     "output_type": "stream",
     "text": [
      "/usr/local/lib/python3.6/dist-packages/skimage/feature/_hog.py:150: skimage_deprecation: Default value of `block_norm`==`L1` is deprecated and will be changed to `L2-Hys` in v0.15. To supress this message specify explicitly the normalization method.\n",
      "  skimage_deprecation)\n"
     ]
    }
   ],
   "source": [
    "for i in tqdm_notebook(os.listdir(src_train_folder)):\n",
    "    img_path = os.path.join(src_train_folder, i)\n",
    "    dst_path = os.path.join(dst_train_folder, \"hog_\"+i)\n",
    "    img = Image.open(img_path)\n",
    "    img_256 = img.resize((256, 256))\n",
    "    fd, hog_image = hog(img_256, orientations=8, pixels_per_cell=(8, 8),\n",
    "                        cells_per_block=(1, 1), visualize=True, multichannel=True)\n",
    "    hog_image_rescaled = exposure.rescale_intensity(hog_image, in_range=(0, 10))\n",
    "    plt.imsave(dst_path, hog_image_rescaled, cmap=plt.cm.gray)"
   ]
  },
  {
   "cell_type": "code",
   "execution_count": null,
   "metadata": {},
   "outputs": [],
   "source": []
  }
 ],
 "metadata": {
  "kernelspec": {
   "display_name": "Python 3",
   "language": "python",
   "name": "python3"
  },
  "language_info": {
   "codemirror_mode": {
    "name": "ipython",
    "version": 3
   },
   "file_extension": ".py",
   "mimetype": "text/x-python",
   "name": "python",
   "nbconvert_exporter": "python",
   "pygments_lexer": "ipython3",
   "version": "3.6.7"
  }
 },
 "nbformat": 4,
 "nbformat_minor": 2
}
