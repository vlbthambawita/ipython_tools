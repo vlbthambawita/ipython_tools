{
 "cells": [
  {
   "cell_type": "code",
   "execution_count": null,
   "metadata": {},
   "outputs": [],
   "source": []
  },
  {
   "cell_type": "code",
   "execution_count": 69,
   "metadata": {},
   "outputs": [],
   "source": [
    "from math import sqrt\n",
    "from skimage import data\n",
    "from skimage.feature import blob_dog, blob_log, blob_doh\n",
    "from skimage.color import rgb2gray\n",
    "\n",
    "import matplotlib.pyplot as plt\n",
    "from PIL import Image\n",
    "import numpy as np"
   ]
  },
  {
   "cell_type": "code",
   "execution_count": null,
   "metadata": {},
   "outputs": [],
   "source": []
  },
  {
   "cell_type": "code",
   "execution_count": 100,
   "metadata": {},
   "outputs": [],
   "source": [
    "import cv2"
   ]
  },
  {
   "cell_type": "code",
   "execution_count": null,
   "metadata": {},
   "outputs": [],
   "source": []
  },
  {
   "cell_type": "code",
   "execution_count": 2,
   "metadata": {},
   "outputs": [],
   "source": [
    "src_train_folder = \"/home/vajira/DL/common_datasets/sperm_4k_1k/train/a\"\n",
    "dst_train_folder = \"/home/vajira/DL/common_datasets/sperm_4k_1k/train/blobs_log\""
   ]
  },
  {
   "cell_type": "code",
   "execution_count": null,
   "metadata": {},
   "outputs": [],
   "source": [
    "for i in tqdm_notebook(os.listdir(src_train_folder)):\n",
    "    \n",
    "    blob_img = np.zeros((256, 256, 3), dtype=np.double)\n",
    "    \n",
    "    img_path = os.path.join(src_train_folder, i)\n",
    "    dst_path = os.path.join(dst_train_folder, \"blob_log_\"+i)\n",
    "    img = Image.open(img_path)\n",
    "    img_256 = img.resize((256, 256))\n",
    "    \n",
    "    # extracting blobs\n",
    "    img = rgb2gray(img_256)\n",
    "    blobs_log = blob_log(image_gray, max_sigma=30, num_sigma=10, threshold=.1)\n",
    "    # Compute radii in the 3rd column.\n",
    "    blobs_log[:, 2] = blobs_log[:, 2] * sqrt(2)\n",
    "    \n",
    "    # draw blobs\n",
    "    for blob in blobs_log:\n",
    "    y, x, r = blob\n",
    "    c = cv2.circle(blob_img,(int(x),int(y)), int(r), (0,255,0), 2)\n",
    "    \n",
    "    img_pil = Image.from_array(blob_img)\n",
    "    img_pil.save(dst_path, \"PNG\")"
   ]
  }
 ],
 "metadata": {
  "kernelspec": {
   "display_name": "Python 3",
   "language": "python",
   "name": "python3"
  },
  "language_info": {
   "codemirror_mode": {
    "name": "ipython",
    "version": 3
   },
   "file_extension": ".py",
   "mimetype": "text/x-python",
   "name": "python",
   "nbconvert_exporter": "python",
   "pygments_lexer": "ipython3",
   "version": "3.6.7"
  }
 },
 "nbformat": 4,
 "nbformat_minor": 2
}
